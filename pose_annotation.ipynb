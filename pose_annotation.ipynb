{
 "cells": [
  {
   "cell_type": "code",
   "execution_count": 51,
   "metadata": {},
   "outputs": [
    {
     "name": "stderr",
     "output_type": "stream",
     "text": [
      "\n",
      "image 1/1 c:\\Users\\010\\Desktop\\sktproject\\frame_0_timestamp_0.jpg: 384x640 1 dog, 303.6ms\n",
      "Speed: 8.0ms preprocess, 303.6ms inference, 4.0ms postprocess per image at shape (1, 3, 384, 640)\n",
      "Results saved to \u001b[1mC:\\Users\\010\\runs\\pose\\predict6\u001b[0m\n"
     ]
    }
   ],
   "source": [
    "from ultralytics import YOLO\n",
    "model = YOLO('82best.pt')\n",
    "pred = model.predict('frame_0_timestamp_0.jpg',save=True)"
   ]
  },
  {
   "cell_type": "code",
   "execution_count": 64,
   "metadata": {},
   "outputs": [
    {
     "data": {
      "text/plain": [
       "tensor(0.9506)"
      ]
     },
     "execution_count": 64,
     "metadata": {},
     "output_type": "execute_result"
    }
   ],
   "source": [
    "pred[0].keypoints.data[0][1][2]"
   ]
  },
  {
   "cell_type": "code",
   "execution_count": 49,
   "metadata": {},
   "outputs": [],
   "source": [
    "raw_folder_path = 'C:\\\\Users\\\\010\\\\Desktop\\\\sktproject\\\\images'"
   ]
  },
  {
   "cell_type": "code",
   "execution_count": 29,
   "metadata": {},
   "outputs": [],
   "source": [
    "pose_estimation_path = 'C:\\\\Users\\\\010\\\\Desktop\\\\sktproject\\\\images\\\\pose_data'"
   ]
  },
  {
   "cell_type": "code",
   "execution_count": 39,
   "metadata": {},
   "outputs": [],
   "source": [
    "import os\n",
    "from PIL import Image\n",
    "from tqdm import tqdm"
   ]
  },
  {
   "cell_type": "code",
   "execution_count": 65,
   "metadata": {},
   "outputs": [
    {
     "name": "stderr",
     "output_type": "stream",
     "text": [
      "  0%|          | 0/13 [00:00<?, ?it/s]\n",
      "image 1/1 C:\\Users\\010\\Desktop\\sktproject\\images\\frame_0_timestamp_0.jpg: 384x640 1 dog, 155.4ms\n",
      "Speed: 0.0ms preprocess, 155.4ms inference, 0.0ms postprocess per image at shape (1, 3, 384, 640)\n",
      "Results saved to \u001b[1mC:\\Users\\010\\runs\\pose\\predict6\u001b[0m\n",
      "  8%|▊         | 1/13 [00:00<00:03,  3.84it/s]\n",
      "image 1/1 C:\\Users\\010\\Desktop\\sktproject\\images\\frame_102_timestamp_3400.jpg: 384x640 1 dog, 108.7ms\n"
     ]
    },
    {
     "name": "stdout",
     "output_type": "stream",
     "text": [
      "frame_0_timestamp_0.jpg의 해상도: 1920 x 1080 픽셀\n"
     ]
    },
    {
     "name": "stderr",
     "output_type": "stream",
     "text": [
      "Speed: 4.0ms preprocess, 108.7ms inference, 2.0ms postprocess per image at shape (1, 3, 384, 640)\n",
      "Results saved to \u001b[1mC:\\Users\\010\\runs\\pose\\predict6\u001b[0m\n",
      " 15%|█▌        | 2/13 [00:00<00:02,  4.59it/s]\n"
     ]
    },
    {
     "name": "stdout",
     "output_type": "stream",
     "text": [
      "frame_102_timestamp_3400.jpg의 해상도: 1920 x 1080 픽셀\n"
     ]
    },
    {
     "name": "stderr",
     "output_type": "stream",
     "text": [
      "image 1/1 C:\\Users\\010\\Desktop\\sktproject\\images\\frame_108_timestamp_3600.jpg: 384x640 1 dog, 116.5ms\n",
      "Speed: 2.1ms preprocess, 116.5ms inference, 4.0ms postprocess per image at shape (1, 3, 384, 640)\n",
      "Results saved to \u001b[1mC:\\Users\\010\\runs\\pose\\predict6\u001b[0m\n",
      " 23%|██▎       | 3/13 [00:00<00:02,  4.72it/s]\n",
      "image 1/1 C:\\Users\\010\\Desktop\\sktproject\\images\\frame_114_timestamp_3800.jpg: 384x640 1 dog, 110.4ms\n",
      "Speed: 4.0ms preprocess, 110.4ms inference, 0.0ms postprocess per image at shape (1, 3, 384, 640)\n",
      "Results saved to \u001b[1mC:\\Users\\010\\runs\\pose\\predict6\u001b[0m\n",
      " 31%|███       | 4/13 [00:00<00:01,  4.97it/s]\n"
     ]
    },
    {
     "name": "stdout",
     "output_type": "stream",
     "text": [
      "frame_108_timestamp_3600.jpg의 해상도: 1920 x 1080 픽셀\n",
      "frame_114_timestamp_3800.jpg의 해상도: 1920 x 1080 픽셀\n"
     ]
    },
    {
     "name": "stderr",
     "output_type": "stream",
     "text": [
      "image 1/1 C:\\Users\\010\\Desktop\\sktproject\\images\\frame_120_timestamp_4000.jpg: 384x640 1 dog, 140.5ms\n",
      "Speed: 4.0ms preprocess, 140.5ms inference, 0.0ms postprocess per image at shape (1, 3, 384, 640)\n",
      "Results saved to \u001b[1mC:\\Users\\010\\runs\\pose\\predict6\u001b[0m\n",
      " 38%|███▊      | 5/13 [00:01<00:01,  4.89it/s]\n",
      "image 1/1 C:\\Users\\010\\Desktop\\sktproject\\images\\frame_126_timestamp_4200.jpg: 384x640 1 dog, 95.9ms\n",
      "Speed: 4.0ms preprocess, 95.9ms inference, 4.0ms postprocess per image at shape (1, 3, 384, 640)\n",
      "Results saved to \u001b[1mC:\\Users\\010\\runs\\pose\\predict6\u001b[0m\n",
      " 46%|████▌     | 6/13 [00:01<00:01,  5.20it/s]\n"
     ]
    },
    {
     "name": "stdout",
     "output_type": "stream",
     "text": [
      "frame_120_timestamp_4000.jpg의 해상도: 1920 x 1080 픽셀\n",
      "frame_126_timestamp_4200.jpg의 해상도: 1920 x 1080 픽셀\n"
     ]
    },
    {
     "name": "stderr",
     "output_type": "stream",
     "text": [
      "image 1/1 C:\\Users\\010\\Desktop\\sktproject\\images\\frame_12_timestamp_400.jpg: 384x640 1 dog, 109.7ms\n",
      "Speed: 0.0ms preprocess, 109.7ms inference, 0.0ms postprocess per image at shape (1, 3, 384, 640)\n",
      "Results saved to \u001b[1mC:\\Users\\010\\runs\\pose\\predict6\u001b[0m\n",
      " 54%|█████▍    | 7/13 [00:01<00:01,  5.36it/s]\n",
      "image 1/1 C:\\Users\\010\\Desktop\\sktproject\\images\\frame_132_timestamp_4400.jpg: 384x640 1 dog, 106.8ms\n",
      "Speed: 4.0ms preprocess, 106.8ms inference, 0.0ms postprocess per image at shape (1, 3, 384, 640)\n",
      "Results saved to \u001b[1mC:\\Users\\010\\runs\\pose\\predict6\u001b[0m\n",
      " 62%|██████▏   | 8/13 [00:01<00:00,  5.45it/s]\n"
     ]
    },
    {
     "name": "stdout",
     "output_type": "stream",
     "text": [
      "frame_12_timestamp_400.jpg의 해상도: 1920 x 1080 픽셀\n",
      "frame_132_timestamp_4400.jpg의 해상도: 1920 x 1080 픽셀\n"
     ]
    },
    {
     "name": "stderr",
     "output_type": "stream",
     "text": [
      "image 1/1 C:\\Users\\010\\Desktop\\sktproject\\images\\frame_138_timestamp_4600.jpg: 384x640 1 dog, 113.6ms\n",
      "Speed: 4.0ms preprocess, 113.6ms inference, 0.0ms postprocess per image at shape (1, 3, 384, 640)\n",
      "Results saved to \u001b[1mC:\\Users\\010\\runs\\pose\\predict6\u001b[0m\n",
      " 69%|██████▉   | 9/13 [00:01<00:00,  5.46it/s]\n",
      "image 1/1 C:\\Users\\010\\Desktop\\sktproject\\images\\frame_144_timestamp_4800.jpg: 384x640 1 dog, 101.7ms\n",
      "Speed: 4.0ms preprocess, 101.7ms inference, 1.3ms postprocess per image at shape (1, 3, 384, 640)\n",
      "Results saved to \u001b[1mC:\\Users\\010\\runs\\pose\\predict6\u001b[0m\n",
      " 77%|███████▋  | 10/13 [00:01<00:00,  5.58it/s]\n"
     ]
    },
    {
     "name": "stdout",
     "output_type": "stream",
     "text": [
      "frame_138_timestamp_4600.jpg의 해상도: 1920 x 1080 픽셀\n",
      "frame_144_timestamp_4800.jpg의 해상도: 1920 x 1080 픽셀\n"
     ]
    },
    {
     "name": "stderr",
     "output_type": "stream",
     "text": [
      "image 1/1 C:\\Users\\010\\Desktop\\sktproject\\images\\frame_150_timestamp_5000.jpg: 384x640 1 dog, 110.9ms\n",
      "Speed: 0.0ms preprocess, 110.9ms inference, 0.6ms postprocess per image at shape (1, 3, 384, 640)\n",
      "Results saved to \u001b[1mC:\\Users\\010\\runs\\pose\\predict6\u001b[0m\n",
      " 85%|████████▍ | 11/13 [00:02<00:00,  5.69it/s]\n",
      "image 1/1 C:\\Users\\010\\Desktop\\sktproject\\images\\frame_156_timestamp_5200.jpg: 384x640 1 dog, 94.3ms\n",
      "Speed: 4.0ms preprocess, 94.3ms inference, 0.0ms postprocess per image at shape (1, 3, 384, 640)\n",
      "Results saved to \u001b[1mC:\\Users\\010\\runs\\pose\\predict6\u001b[0m\n",
      " 92%|█████████▏| 12/13 [00:02<00:00,  5.82it/s]\n"
     ]
    },
    {
     "name": "stdout",
     "output_type": "stream",
     "text": [
      "frame_150_timestamp_5000.jpg의 해상도: 1920 x 1080 픽셀\n",
      "frame_156_timestamp_5200.jpg의 해상도: 1920 x 1080 픽셀\n"
     ]
    },
    {
     "name": "stderr",
     "output_type": "stream",
     "text": [
      "image 1/1 C:\\Users\\010\\Desktop\\sktproject\\images\\frame_162_timestamp_5400.jpg: 384x640 1 dog, 107.8ms\n",
      "Speed: 0.0ms preprocess, 107.8ms inference, 1.5ms postprocess per image at shape (1, 3, 384, 640)\n",
      "Results saved to \u001b[1mC:\\Users\\010\\runs\\pose\\predict6\u001b[0m\n",
      "100%|██████████| 13/13 [00:02<00:00,  5.36it/s]"
     ]
    },
    {
     "name": "stdout",
     "output_type": "stream",
     "text": [
      "frame_162_timestamp_5400.jpg의 해상도: 1920 x 1080 픽셀\n"
     ]
    },
    {
     "name": "stderr",
     "output_type": "stream",
     "text": [
      "\n"
     ]
    }
   ],
   "source": [
    "# 디렉토리 내의 파일들에 대한 포즈 예측 수행\n",
    "annotation = []\n",
    "for file in tqdm(os.listdir(raw_folder_path)):\n",
    "    if file.lower().endswith(\".jpg\"):\n",
    "        file_path = os.path.join(raw_folder_path, file)\n",
    "        img = Image.open(file_path)\n",
    "        width, height = img.size\n",
    "        pred = model.predict(file_path, save=True)  # 예측 수행 및 저장\n",
    "        for i in range(15):\n",
    "            annotation.append([pred[0].keypoints.data[0][i][0]/width, pred[0].keypoints.data[0][i][1]/height,pred[0].keypoints.data[0][i][2]])"
   ]
  },
  {
   "cell_type": "code",
   "execution_count": 66,
   "metadata": {},
   "outputs": [
    {
     "data": {
      "text/plain": [
       "[[tensor(0.3932), tensor(0.5750), tensor(0.9301)],\n",
       " [tensor(0.3946), tensor(0.3911), tensor(0.9506)],\n",
       " [tensor(0.4457), tensor(0.5513), tensor(0.8756)],\n",
       " [tensor(0.4149), tensor(0.5976), tensor(0.8476)],\n",
       " [tensor(0.4800), tensor(0.2465), tensor(0.9105)],\n",
       " [tensor(0.4208), tensor(0.4471), tensor(0.8725)],\n",
       " [tensor(0.5555), tensor(0.4321), tensor(0.9344)],\n",
       " [tensor(0.4298), tensor(0.5849), tensor(0.8717)],\n",
       " [tensor(0.5642), tensor(0.5834), tensor(0.8974)],\n",
       " [tensor(0.5803), tensor(0.3854), tensor(0.8825)],\n",
       " [tensor(0.6208), tensor(0.3672), tensor(0.9208)],\n",
       " [tensor(0.5914), tensor(0.4359), tensor(0.8786)],\n",
       " [tensor(0.6294), tensor(0.4248), tensor(0.8995)],\n",
       " [tensor(0.5911), tensor(0.1413), tensor(0.9125)],\n",
       " [tensor(0.5834), tensor(0.0833), tensor(0.9042)],\n",
       " [tensor(0.3675), tensor(0.6906), tensor(0.9320)],\n",
       " [tensor(0.3712), tensor(0.5301), tensor(0.9501)],\n",
       " [tensor(0.4380), tensor(0.6376), tensor(0.8979)],\n",
       " [tensor(0.4052), tensor(0.6933), tensor(0.8634)],\n",
       " [tensor(0.5052), tensor(0.2435), tensor(0.9619)],\n",
       " [tensor(0.5416), tensor(0.3775), tensor(0.8950)],\n",
       " [tensor(0.6153), tensor(0.3799), tensor(0.9751)],\n",
       " [tensor(0.5841), tensor(0.5736), tensor(0.9312)],\n",
       " [tensor(0.6450), tensor(0.6127), tensor(0.9647)],\n",
       " [tensor(0.6780), tensor(0.4124), tensor(0.9265)],\n",
       " [tensor(0.7136), tensor(0.4238), tensor(0.9712)],\n",
       " [tensor(0.6893), tensor(0.5247), tensor(0.9322)],\n",
       " [tensor(0.7208), tensor(0.5596), tensor(0.9586)],\n",
       " [tensor(0.7630), tensor(0.0920), tensor(0.9466)],\n",
       " [tensor(0.7929), tensor(0.0359), tensor(0.9286)],\n",
       " [tensor(0.3741), tensor(0.7148), tensor(0.9290)],\n",
       " [tensor(0.3840), tensor(0.5612), tensor(0.9496)],\n",
       " [tensor(0.4420), tensor(0.6635), tensor(0.8913)],\n",
       " [tensor(0.4097), tensor(0.7179), tensor(0.8564)],\n",
       " [tensor(0.5140), tensor(0.2895), tensor(0.9598)],\n",
       " [tensor(0.5313), tensor(0.4141), tensor(0.8996)],\n",
       " [tensor(0.6230), tensor(0.4203), tensor(0.9729)],\n",
       " [tensor(0.5555), tensor(0.6166), tensor(0.9359)],\n",
       " [tensor(0.6475), tensor(0.6496), tensor(0.9641)],\n",
       " [tensor(0.6780), tensor(0.4771), tensor(0.9329)],\n",
       " [tensor(0.7040), tensor(0.4823), tensor(0.9706)],\n",
       " [tensor(0.6907), tensor(0.5854), tensor(0.9368)],\n",
       " [tensor(0.7151), tensor(0.6135), tensor(0.9586)],\n",
       " [tensor(0.7635), tensor(0.1888), tensor(0.9537)],\n",
       " [tensor(0.7728), tensor(0.0808), tensor(0.9380)],\n",
       " [tensor(0.3474), tensor(0.7314), tensor(0.9190)],\n",
       " [tensor(0.3610), tensor(0.5898), tensor(0.9445)],\n",
       " [tensor(0.4080), tensor(0.6927), tensor(0.8823)],\n",
       " [tensor(0.3804), tensor(0.7394), tensor(0.8440)],\n",
       " [tensor(0.4918), tensor(0.3336), tensor(0.9642)],\n",
       " [tensor(0.5078), tensor(0.4433), tensor(0.8876)],\n",
       " [tensor(0.6025), tensor(0.4680), tensor(0.9758)],\n",
       " [tensor(0.5142), tensor(0.6384), tensor(0.9301)],\n",
       " [tensor(0.6240), tensor(0.6833), tensor(0.9651)],\n",
       " [tensor(0.6769), tensor(0.4820), tensor(0.9334)],\n",
       " [tensor(0.7003), tensor(0.4899), tensor(0.9763)],\n",
       " [tensor(0.6838), tensor(0.5869), tensor(0.9397)],\n",
       " [tensor(0.7076), tensor(0.6210), tensor(0.9647)],\n",
       " [tensor(0.7753), tensor(0.1992), tensor(0.9613)],\n",
       " [tensor(0.7897), tensor(0.0921), tensor(0.9464)],\n",
       " [tensor(0.3508), tensor(0.7522), tensor(0.9322)],\n",
       " [tensor(0.3627), tensor(0.5995), tensor(0.9555)],\n",
       " [tensor(0.4182), tensor(0.7079), tensor(0.8991)],\n",
       " [tensor(0.3858), tensor(0.7577), tensor(0.8604)],\n",
       " [tensor(0.5065), tensor(0.3565), tensor(0.9681)],\n",
       " [tensor(0.5265), tensor(0.5028), tensor(0.8860)],\n",
       " [tensor(0.5891), tensor(0.5112), tensor(0.9757)],\n",
       " [tensor(0.5329), tensor(0.6621), tensor(0.9225)],\n",
       " [tensor(0.5917), tensor(0.6970), tensor(0.9610)],\n",
       " [tensor(0.6892), tensor(0.5413), tensor(0.9246)],\n",
       " [tensor(0.7248), tensor(0.5561), tensor(0.9735)],\n",
       " [tensor(0.7053), tensor(0.6290), tensor(0.9289)],\n",
       " [tensor(0.7434), tensor(0.6640), tensor(0.9585)],\n",
       " [tensor(0.7762), tensor(0.2790), tensor(0.9618)],\n",
       " [tensor(0.7950), tensor(0.1474), tensor(0.9489)],\n",
       " [tensor(0.3683), tensor(0.7344), tensor(0.9410)],\n",
       " [tensor(0.3901), tensor(0.5754), tensor(0.9548)],\n",
       " [tensor(0.4402), tensor(0.6966), tensor(0.9086)],\n",
       " [tensor(0.4028), tensor(0.7464), tensor(0.8768)],\n",
       " [tensor(0.5263), tensor(0.3353), tensor(0.9630)],\n",
       " [tensor(0.5546), tensor(0.4630), tensor(0.8959)],\n",
       " [tensor(0.6327), tensor(0.4725), tensor(0.9759)],\n",
       " [tensor(0.5954), tensor(0.6481), tensor(0.9292)],\n",
       " [tensor(0.6740), tensor(0.6979), tensor(0.9633)],\n",
       " [tensor(0.6935), tensor(0.5142), tensor(0.9248)],\n",
       " [tensor(0.7253), tensor(0.5216), tensor(0.9709)],\n",
       " [tensor(0.7042), tensor(0.6283), tensor(0.9288)],\n",
       " [tensor(0.7364), tensor(0.6554), tensor(0.9570)],\n",
       " [tensor(0.7679), tensor(0.2091), tensor(0.9459)],\n",
       " [tensor(0.8096), tensor(0.1783), tensor(0.9279)],\n",
       " [tensor(0.3265), tensor(0.5548), tensor(0.9563)],\n",
       " [tensor(0.3204), tensor(0.3830), tensor(0.9599)],\n",
       " [tensor(0.3781), tensor(0.5349), tensor(0.9184)],\n",
       " [tensor(0.3506), tensor(0.5774), tensor(0.9018)],\n",
       " [tensor(0.4145), tensor(0.1823), tensor(0.9128)],\n",
       " [tensor(0.3486), tensor(0.4511), tensor(0.9278)],\n",
       " [tensor(0.5030), tensor(0.3786), tensor(0.9646)],\n",
       " [tensor(0.3276), tensor(0.6290), tensor(0.9503)],\n",
       " [tensor(0.5158), tensor(0.5275), tensor(0.9629)],\n",
       " [tensor(0.5374), tensor(0.3507), tensor(0.9183)],\n",
       " [tensor(0.5655), tensor(0.3353), tensor(0.9508)],\n",
       " [tensor(0.5599), tensor(0.4107), tensor(0.9181)],\n",
       " [tensor(0.5839), tensor(0.4042), tensor(0.9396)],\n",
       " [tensor(0.5451), tensor(0.0970), tensor(0.9108)],\n",
       " [tensor(0.5608), tensor(0.0309), tensor(0.9000)],\n",
       " [tensor(0.3673), tensor(0.7382), tensor(0.9298)],\n",
       " [tensor(0.3840), tensor(0.5906), tensor(0.9508)],\n",
       " [tensor(0.4344), tensor(0.6995), tensor(0.8949)],\n",
       " [tensor(0.4005), tensor(0.7474), tensor(0.8588)],\n",
       " [tensor(0.5185), tensor(0.3468), tensor(0.9639)],\n",
       " [tensor(0.5379), tensor(0.4733), tensor(0.8837)],\n",
       " [tensor(0.6134), tensor(0.4856), tensor(0.9745)],\n",
       " [tensor(0.5564), tensor(0.6510), tensor(0.9201)],\n",
       " [tensor(0.6442), tensor(0.6925), tensor(0.9598)],\n",
       " [tensor(0.6940), tensor(0.5334), tensor(0.9209)],\n",
       " [tensor(0.7206), tensor(0.5402), tensor(0.9718)],\n",
       " [tensor(0.7072), tensor(0.6380), tensor(0.9249)],\n",
       " [tensor(0.7366), tensor(0.6650), tensor(0.9568)],\n",
       " [tensor(0.7714), tensor(0.2458), tensor(0.9524)],\n",
       " [tensor(0.8113), tensor(0.1790), tensor(0.9361)],\n",
       " [tensor(0.3715), tensor(0.7483), tensor(0.9276)],\n",
       " [tensor(0.3788), tensor(0.6038), tensor(0.9528)],\n",
       " [tensor(0.4319), tensor(0.7095), tensor(0.8935)],\n",
       " [tensor(0.4027), tensor(0.7565), tensor(0.8563)],\n",
       " [tensor(0.5099), tensor(0.3630), tensor(0.9668)],\n",
       " [tensor(0.5089), tensor(0.5031), tensor(0.8899)],\n",
       " [tensor(0.5921), tensor(0.5200), tensor(0.9765)],\n",
       " [tensor(0.5040), tensor(0.6864), tensor(0.9226)],\n",
       " [tensor(0.5967), tensor(0.7217), tensor(0.9611)],\n",
       " [tensor(0.6851), tensor(0.5404), tensor(0.9285)],\n",
       " [tensor(0.7225), tensor(0.5545), tensor(0.9760)],\n",
       " [tensor(0.6987), tensor(0.6368), tensor(0.9322)],\n",
       " [tensor(0.7384), tensor(0.6715), tensor(0.9621)],\n",
       " [tensor(0.7735), tensor(0.2676), tensor(0.9637)],\n",
       " [tensor(0.8029), tensor(0.1605), tensor(0.9503)],\n",
       " [tensor(0.3665), tensor(0.7046), tensor(0.9227)],\n",
       " [tensor(0.3720), tensor(0.5718), tensor(0.9439)],\n",
       " [tensor(0.4276), tensor(0.6685), tensor(0.8856)],\n",
       " [tensor(0.4010), tensor(0.7133), tensor(0.8497)],\n",
       " [tensor(0.5040), tensor(0.3189), tensor(0.9611)],\n",
       " [tensor(0.5394), tensor(0.4720), tensor(0.8868)],\n",
       " [tensor(0.5931), tensor(0.4678), tensor(0.9743)],\n",
       " [tensor(0.5555), tensor(0.6385), tensor(0.9293)],\n",
       " [tensor(0.6270), tensor(0.6678), tensor(0.9651)],\n",
       " [tensor(0.6785), tensor(0.5062), tensor(0.9285)],\n",
       " [tensor(0.7069), tensor(0.5207), tensor(0.9752)],\n",
       " [tensor(0.6996), tensor(0.6100), tensor(0.9332)],\n",
       " [tensor(0.7339), tensor(0.6460), tensor(0.9627)],\n",
       " [tensor(0.7677), tensor(0.2371), tensor(0.9569)],\n",
       " [tensor(0.8178), tensor(0.2112), tensor(0.9397)],\n",
       " [tensor(0.3621), tensor(0.7501), tensor(0.9322)],\n",
       " [tensor(0.3709), tensor(0.6079), tensor(0.9532)],\n",
       " [tensor(0.4248), tensor(0.7067), tensor(0.9008)],\n",
       " [tensor(0.3948), tensor(0.7544), tensor(0.8657)],\n",
       " [tensor(0.5038), tensor(0.3412), tensor(0.9692)],\n",
       " [tensor(0.5169), tensor(0.4800), tensor(0.9023)],\n",
       " [tensor(0.5924), tensor(0.4924), tensor(0.9796)],\n",
       " [tensor(0.5235), tensor(0.6674), tensor(0.9367)],\n",
       " [tensor(0.6022), tensor(0.6976), tensor(0.9693)],\n",
       " [tensor(0.6821), tensor(0.5188), tensor(0.9373)],\n",
       " [tensor(0.7160), tensor(0.5296), tensor(0.9791)],\n",
       " [tensor(0.6954), tensor(0.6183), tensor(0.9422)],\n",
       " [tensor(0.7303), tensor(0.6499), tensor(0.9681)],\n",
       " [tensor(0.7667), tensor(0.2382), tensor(0.9634)],\n",
       " [tensor(0.8052), tensor(0.1784), tensor(0.9494)],\n",
       " [tensor(0.3462), tensor(0.7236), tensor(0.9378)],\n",
       " [tensor(0.3565), tensor(0.5828), tensor(0.9570)],\n",
       " [tensor(0.4081), tensor(0.6816), tensor(0.8991)],\n",
       " [tensor(0.3771), tensor(0.7314), tensor(0.8688)],\n",
       " [tensor(0.4731), tensor(0.3212), tensor(0.9618)],\n",
       " [tensor(0.4494), tensor(0.4467), tensor(0.9043)],\n",
       " [tensor(0.5757), tensor(0.4753), tensor(0.9784)],\n",
       " [tensor(0.4326), tensor(0.6659), tensor(0.9362)],\n",
       " [tensor(0.5858), tensor(0.7092), tensor(0.9677)],\n",
       " [tensor(0.6433), tensor(0.4894), tensor(0.9332)],\n",
       " [tensor(0.6746), tensor(0.4831), tensor(0.9772)],\n",
       " [tensor(0.6628), tensor(0.5934), tensor(0.9348)],\n",
       " [tensor(0.6958), tensor(0.6023), tensor(0.9646)],\n",
       " [tensor(0.7191), tensor(0.1729), tensor(0.9556)],\n",
       " [tensor(0.7740), tensor(0.1415), tensor(0.9375)],\n",
       " [tensor(0.3704), tensor(0.7989), tensor(0.9332)],\n",
       " [tensor(0.3772), tensor(0.6484), tensor(0.9489)],\n",
       " [tensor(0.4312), tensor(0.7466), tensor(0.9011)],\n",
       " [tensor(0.4030), tensor(0.7984), tensor(0.8686)],\n",
       " [tensor(0.4990), tensor(0.3473), tensor(0.9644)],\n",
       " [tensor(0.5240), tensor(0.4791), tensor(0.9075)],\n",
       " [tensor(0.6048), tensor(0.4912), tensor(0.9793)],\n",
       " [tensor(0.5548), tensor(0.6887), tensor(0.9428)],\n",
       " [tensor(0.6263), tensor(0.7251), tensor(0.9720)],\n",
       " [tensor(0.6696), tensor(0.5230), tensor(0.9386)],\n",
       " [tensor(0.7023), tensor(0.5297), tensor(0.9782)],\n",
       " [tensor(0.6778), tensor(0.6291), tensor(0.9452)],\n",
       " [tensor(0.7057), tensor(0.6615), tensor(0.9688)],\n",
       " [tensor(0.7635), tensor(0.2354), tensor(0.9531)],\n",
       " [tensor(0.8031), tensor(0.2364), tensor(0.9366)]]"
      ]
     },
     "execution_count": 66,
     "metadata": {},
     "output_type": "execute_result"
    }
   ],
   "source": [
    "annotation"
   ]
  },
  {
   "cell_type": "code",
   "execution_count": null,
   "metadata": {},
   "outputs": [],
   "source": [
    "import numpy as np\n",
    "\n",
    "# 변환할 리스트 데이터\n",
    "data_list = [1, 2, 3, 4, 5]\n",
    "\n",
    "# NumPy 배열로 변환\n",
    "data_array = np.array(data_list)\n",
    "\n",
    "# .npy 파일로 저장\n",
    "output_file = \"data.npy\"  # 저장할 파일 이름 설정\n",
    "np.save(output_file, data_array)\n",
    "\n",
    "print(f\"데이터가 {output_file} 파일로 저장되었습니다.\")"
   ]
  },
  {
   "cell_type": "code",
   "execution_count": 40,
   "metadata": {},
   "outputs": [
    {
     "name": "stdout",
     "output_type": "stream",
     "text": [
      "[[[836.79, 973.56, 0.98166], [711.87, 779.37, 0.96075], [740.04, 1010.2, 0.96753], [825.64, 1026.7, 0.95816], [428.07, 812.21, 0.91985], [516.18, 1074.9, 0.98849], [779.46, 999.76, 0.93506], [620.07, 1288.6, 0.98754], [815.38, 1096.7, 0.97598], [336.0, 1259.8, 0.97598], [405.42, 1286.3, 0.92388], [303.89, 1399.5, 0.96687], [349.68, 1387.8, 0.94271], [26.795, 1342.5, 0.91566], [62.044, 1506.2, 0.90545]]]\n"
     ]
    }
   ],
   "source": [
    "import numpy as np\n",
    "\n",
    "# 주어진 텐서\n",
    "tensor = np.array([[[8.3679e+02, 9.7356e+02, 9.8166e-01],\n",
    "                    [7.1187e+02, 7.7937e+02, 9.6075e-01],\n",
    "                    [7.4004e+02, 1.0102e+03, 9.6753e-01],\n",
    "                    [8.2564e+02, 1.0267e+03, 9.5816e-01],\n",
    "                    [4.2807e+02, 8.1221e+02, 9.1985e-01],\n",
    "                    [5.1618e+02, 1.0749e+03, 9.8849e-01],\n",
    "                    [7.7946e+02, 9.9976e+02, 9.3506e-01],\n",
    "                    [6.2007e+02, 1.2886e+03, 9.8754e-01],\n",
    "                    [8.1538e+02, 1.0967e+03, 9.7598e-01],\n",
    "                    [3.3600e+02, 1.2598e+03, 9.7598e-01],\n",
    "                    [4.0542e+02, 1.2863e+03, 9.2388e-01],\n",
    "                    [3.0389e+02, 1.3995e+03, 9.6687e-01],\n",
    "                    [3.4968e+02, 1.3878e+03, 9.4271e-01],\n",
    "                    [2.6795e+01, 1.3425e+03, 9.1566e-01],\n",
    "                    [6.2044e+01, 1.5062e+03, 9.0545e-01]]])\n",
    "\n",
    "# 텐서를 리스트로 변환\n",
    "tensor_list = tensor.tolist()\n",
    "\n",
    "# 결과 출력\n",
    "print(tensor_list)\n"
   ]
  }
 ],
 "metadata": {
  "kernelspec": {
   "display_name": "base",
   "language": "python",
   "name": "python3"
  },
  "language_info": {
   "codemirror_mode": {
    "name": "ipython",
    "version": 3
   },
   "file_extension": ".py",
   "mimetype": "text/x-python",
   "name": "python",
   "nbconvert_exporter": "python",
   "pygments_lexer": "ipython3",
   "version": "3.11.4"
  },
  "orig_nbformat": 4
 },
 "nbformat": 4,
 "nbformat_minor": 2
}
