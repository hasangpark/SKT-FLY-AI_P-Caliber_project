{
  "cells": [
    {
      "cell_type": "code",
      "execution_count": null,
      "metadata": {
        "colab": {
          "base_uri": "https://localhost:8080/"
        },
        "id": "gbBlL5Y2v_hu",
        "outputId": "33965ae1-4185-4238-eaca-6eb394b1ebb1"
      },
      "outputs": [
        {
          "name": "stdout",
          "output_type": "stream",
          "text": [
            "Collecting pytube\n",
            "  Downloading pytube-15.0.0-py3-none-any.whl (57 kB)\n",
            "\u001b[?25l     \u001b[90m━━━━━━━━━━━━━━━━━━━━━━━━━━━━━━━━━━━━━━━━\u001b[0m \u001b[32m0.0/57.6 kB\u001b[0m \u001b[31m?\u001b[0m eta \u001b[36m-:--:--\u001b[0m\r\u001b[2K     \u001b[90m━━━━━━━━━━━━━━━━━━━━━━━━━━━━━━━━━━━━━━━━\u001b[0m \u001b[32m57.6/57.6 kB\u001b[0m \u001b[31m1.7 MB/s\u001b[0m eta \u001b[36m0:00:00\u001b[0m\n",
            "\u001b[?25hInstalling collected packages: pytube\n",
            "Successfully installed pytube-15.0.0\n",
            "다운로드 완료!\n"
          ]
        }
      ],
      "source": [
        "!pip install pytube\n",
        "\n",
        "from pytube import YouTube\n",
        "\n",
        "# 유튜브 영상 URL\n",
        "url = 'https://youtu.be/rUARntpoi7k?si=ChcAnRysvOuKLAu5'\n",
        "\n",
        "# 유튜브 영상 객체 생성\n",
        "yt = YouTube(url)\n",
        "\n",
        "# 가장 높은 품질의 비디오 스트림 선택\n",
        "video_stream = yt.streams.get_highest_resolution()\n",
        "\n",
        "# 다운로드\n",
        "video_stream.download(output_path='')\n",
        "print('다운로드 완료!')"
      ]
    },
    {
      "cell_type": "code",
      "execution_count": null,
      "metadata": {
        "colab": {
          "base_uri": "https://localhost:8080/"
        },
        "id": "msUxYJdBwCqk",
        "outputId": "24a89d4a-f8b7-4e45-f3a8-e5cf176410d7"
      },
      "outputs": [
        {
          "output_type": "stream",
          "name": "stdout",
          "text": [
            "/content/drive/MyDrive/pcaliber/dogpoop\n"
          ]
        }
      ],
      "source": [
        "cd /content/drive/MyDrive/pcaliber/dogpoop"
      ]
    },
    {
      "cell_type": "code",
      "execution_count": null,
      "metadata": {
        "colab": {
          "base_uri": "https://localhost:8080/"
        },
        "id": "T3_OHmDgwzE5",
        "outputId": "11263fdc-cb1e-4b93-ef9c-505c8ebda76c"
      },
      "outputs": [
        {
          "output_type": "stream",
          "name": "stdout",
          "text": [
            "10.mp4  15.mp4  1.mp4   26.mp4  31.mp4  37.mp4  41.mp4  46.mp4  6.mp4\n",
            "11.mp4  16.mp4  20.mp4  27.mp4  32.mp4  38.mp4  42.mp4  47.mp4  7.mp4\n",
            "12.mp4  17.mp4  22.mp4  28.mp4  33.mp4  39.mp4  43.mp4  48.mp4  8.mp4\n",
            "13.mp4  18.mp4  24.mp4  29.mp4  34.mp4  3.mp4   44.mp4  49.mp4  9.mp4\n",
            "14.mp4  19.mp4  25.mp4  30.mp4  35.mp4  40.mp4  45.mp4  5.mp4\n"
          ]
        }
      ],
      "source": [
        "ls"
      ]
    },
    {
      "cell_type": "code",
      "execution_count": null,
      "metadata": {
        "colab": {
          "base_uri": "https://localhost:8080/"
        },
        "id": "3lQCUDatw0Bl",
        "outputId": "44c9424d-c497-49fa-ed31-579abde5ec90"
      },
      "outputs": [
        {
          "output_type": "stream",
          "name": "stdout",
          "text": [
            "Renamed '2021-07-13_05-15-19_UTC.mp4' to '1.mp4'\n",
            "Renamed '2021-07-14_06-06-26_UTC.mp4' to '2.mp4'\n",
            "Renamed '2021-07-15_18-08-28_UTC.mp4' to '3.mp4'\n",
            "Renamed '2021-07-20_02-45-24_UTC.mp4' to '4.mp4'\n",
            "Renamed '2021-07-24_23-53-24_UTC.mp4' to '5.mp4'\n",
            "Renamed '2021-08-16_00-29-34_UTC.mp4' to '6.mp4'\n",
            "Renamed '2021-08-20_00-28-29_UTC.mp4' to '7.mp4'\n",
            "Renamed '2021-09-09_04-09-19_UTC.mp4' to '8.mp4'\n",
            "Renamed '2021-10-14_02-38-30_UTC.mp4' to '9.mp4'\n",
            "Renamed '2021-10-26_07-05-47_UTC.mp4' to '10.mp4'\n",
            "Renamed '2022-06-16_10-45-10_UTC.mp4' to '11.mp4'\n",
            "Renamed '2023-03-03_16-19-01_UTC.mp4' to '12.mp4'\n",
            "Renamed '2023-03-18_21-42-41_UTC.mp4' to '13.mp4'\n",
            "Renamed '2023-03-23_22-39-06_UTC.mp4' to '14.mp4'\n",
            "Renamed '2023-03-25_19-57-53_UTC.mp4' to '15.mp4'\n",
            "Renamed '2023-03-31_23-35-24_UTC.mp4' to '16.mp4'\n",
            "Renamed '2023-04-05_18-42-33_UTC.mp4' to '17.mp4'\n",
            "Renamed '2023-04-19_01-24-29_UTC.mp4' to '18.mp4'\n",
            "Renamed '2023-04-22_21-51-18_UTC.mp4' to '19.mp4'\n",
            "Renamed '2023-05-10_05-20-13_UTC.mp4' to '20.mp4'\n"
          ]
        }
      ],
      "source": [
        "import os\n",
        "\n",
        "def rename_files_in_directory(directory_path):\n",
        "    if not os.path.exists(directory_path):\n",
        "        print(f\"Directory '{directory_path}' does not exist.\")\n",
        "        return\n",
        "\n",
        "    file_list = os.listdir(directory_path)\n",
        "    file_list.sort()\n",
        "\n",
        "    for i, old_filename in enumerate(file_list, start=1):\n",
        "        _, extension = os.path.splitext(old_filename)\n",
        "        new_filename = f\"{i}{extension}\"\n",
        "        old_filepath = os.path.join(directory_path, old_filename)\n",
        "        new_filepath = os.path.join(directory_path, new_filename)\n",
        "\n",
        "        os.rename(old_filepath, new_filepath)\n",
        "        print(f\"Renamed '{old_filename}' to '{new_filename}'\")\n",
        "\n",
        "if __name__ == \"__main__\":\n",
        "    directory_path = \"/content/drive/MyDrive/pcaliber/only_video_instagram\"  # Replace with the directory containing your files\n",
        "    rename_files_in_directory(directory_path)\n"
      ]
    },
    {
      "cell_type": "code",
      "source": [
        "cd /content/drive/MyDrive/pcaliber/only_video_instagram"
      ],
      "metadata": {
        "colab": {
          "base_uri": "https://localhost:8080/"
        },
        "id": "R_kgpZmVsxav",
        "outputId": "886bc9ab-3823-4f82-990f-1dcf21f3e073"
      },
      "execution_count": null,
      "outputs": [
        {
          "output_type": "stream",
          "name": "stdout",
          "text": [
            "/content/drive/MyDrive/pcaliber/only_video_instagram\n"
          ]
        }
      ]
    },
    {
      "cell_type": "code",
      "execution_count": null,
      "metadata": {
        "id": "VucNumUVygKv",
        "colab": {
          "base_uri": "https://localhost:8080/"
        },
        "outputId": "113cebb6-d658-4e7c-85f4-79de5ca715b1"
      },
      "outputs": [
        {
          "output_type": "stream",
          "name": "stdout",
          "text": [
            "00:00:01\n",
            "00:00:06\n",
            "0\n",
            "Moviepy - Building video 1_1result.mp4.\n",
            "MoviePy - Writing audio in 1_1resultTEMP_MPY_wvf_snd.mp3\n"
          ]
        },
        {
          "output_type": "stream",
          "name": "stderr",
          "text": []
        },
        {
          "output_type": "stream",
          "name": "stdout",
          "text": [
            "MoviePy - Done.\n",
            "Moviepy - Writing video 1_1result.mp4\n",
            "\n"
          ]
        },
        {
          "output_type": "stream",
          "name": "stderr",
          "text": []
        },
        {
          "output_type": "stream",
          "name": "stdout",
          "text": [
            "Moviepy - Done !\n",
            "Moviepy - video ready 1_1result.mp4\n",
            "Video trimmed and saved: 1_1result.mp4\n",
            "00:00:07\n",
            "00:00:12\n",
            "0\n",
            "Moviepy - Building video 1_2result.mp4.\n",
            "MoviePy - Writing audio in 1_2resultTEMP_MPY_wvf_snd.mp3\n"
          ]
        },
        {
          "output_type": "stream",
          "name": "stderr",
          "text": []
        },
        {
          "output_type": "stream",
          "name": "stdout",
          "text": [
            "MoviePy - Done.\n",
            "Moviepy - Writing video 1_2result.mp4\n",
            "\n"
          ]
        },
        {
          "output_type": "stream",
          "name": "stderr",
          "text": []
        },
        {
          "output_type": "stream",
          "name": "stdout",
          "text": [
            "Moviepy - Done !\n",
            "Moviepy - video ready 1_2result.mp4\n",
            "Video trimmed and saved: 1_2result.mp4\n",
            "00:00:13\n",
            "00:00:18\n",
            "0\n",
            "Moviepy - Building video 1_3result.mp4.\n",
            "MoviePy - Writing audio in 1_3resultTEMP_MPY_wvf_snd.mp3\n"
          ]
        },
        {
          "output_type": "stream",
          "name": "stderr",
          "text": []
        },
        {
          "output_type": "stream",
          "name": "stdout",
          "text": [
            "MoviePy - Done.\n",
            "Moviepy - Writing video 1_3result.mp4\n",
            "\n"
          ]
        },
        {
          "output_type": "stream",
          "name": "stderr",
          "text": []
        },
        {
          "output_type": "stream",
          "name": "stdout",
          "text": [
            "Moviepy - Done !\n",
            "Moviepy - video ready 1_3result.mp4\n",
            "Video trimmed and saved: 1_3result.mp4\n",
            "00:00:00\n",
            "00:00:06\n",
            "0\n",
            "Moviepy - Building video 2_1result.mp4.\n",
            "MoviePy - Writing audio in 2_1resultTEMP_MPY_wvf_snd.mp3\n"
          ]
        },
        {
          "output_type": "stream",
          "name": "stderr",
          "text": []
        },
        {
          "output_type": "stream",
          "name": "stdout",
          "text": [
            "MoviePy - Done.\n",
            "Moviepy - Writing video 2_1result.mp4\n",
            "\n"
          ]
        },
        {
          "output_type": "stream",
          "name": "stderr",
          "text": []
        },
        {
          "output_type": "stream",
          "name": "stdout",
          "text": [
            "Moviepy - Done !\n",
            "Moviepy - video ready 2_1result.mp4\n",
            "Video trimmed and saved: 2_1result.mp4\n",
            "00:00:00\n",
            "00:00:08\n",
            "0\n",
            "Moviepy - Building video 3_1result.mp4.\n",
            "MoviePy - Writing audio in 3_1resultTEMP_MPY_wvf_snd.mp3\n"
          ]
        },
        {
          "output_type": "stream",
          "name": "stderr",
          "text": []
        },
        {
          "output_type": "stream",
          "name": "stdout",
          "text": [
            "MoviePy - Done.\n",
            "Moviepy - Writing video 3_1result.mp4\n",
            "\n"
          ]
        },
        {
          "output_type": "stream",
          "name": "stderr",
          "text": []
        },
        {
          "output_type": "stream",
          "name": "stdout",
          "text": [
            "Moviepy - Done !\n",
            "Moviepy - video ready 3_1result.mp4\n",
            "Video trimmed and saved: 3_1result.mp4\n",
            "00:00:00\n",
            "00:00:02\n",
            "0\n",
            "Moviepy - Building video 5_1result.mp4.\n",
            "MoviePy - Writing audio in 5_1resultTEMP_MPY_wvf_snd.mp3\n"
          ]
        },
        {
          "output_type": "stream",
          "name": "stderr",
          "text": []
        },
        {
          "output_type": "stream",
          "name": "stdout",
          "text": [
            "MoviePy - Done.\n",
            "Moviepy - Writing video 5_1result.mp4\n",
            "\n"
          ]
        },
        {
          "output_type": "stream",
          "name": "stderr",
          "text": []
        },
        {
          "output_type": "stream",
          "name": "stdout",
          "text": [
            "Moviepy - Done !\n",
            "Moviepy - video ready 5_1result.mp4\n",
            "Video trimmed and saved: 5_1result.mp4\n",
            "00:00:00\n",
            "00:00:07\n",
            "0\n",
            "Moviepy - Building video 7_1result.mp4.\n",
            "MoviePy - Writing audio in 7_1resultTEMP_MPY_wvf_snd.mp3\n"
          ]
        },
        {
          "output_type": "stream",
          "name": "stderr",
          "text": []
        },
        {
          "output_type": "stream",
          "name": "stdout",
          "text": [
            "MoviePy - Done.\n",
            "Moviepy - Writing video 7_1result.mp4\n",
            "\n"
          ]
        },
        {
          "output_type": "stream",
          "name": "stderr",
          "text": []
        },
        {
          "output_type": "stream",
          "name": "stdout",
          "text": [
            "Moviepy - Done !\n",
            "Moviepy - video ready 7_1result.mp4\n",
            "Video trimmed and saved: 7_1result.mp4\n",
            "00:00:00\n",
            "00:00:04\n",
            "0\n",
            "Moviepy - Building video 8_1result.mp4.\n",
            "MoviePy - Writing audio in 8_1resultTEMP_MPY_wvf_snd.mp3\n"
          ]
        },
        {
          "output_type": "stream",
          "name": "stderr",
          "text": []
        },
        {
          "output_type": "stream",
          "name": "stdout",
          "text": [
            "MoviePy - Done.\n",
            "Moviepy - Writing video 8_1result.mp4\n",
            "\n"
          ]
        },
        {
          "output_type": "stream",
          "name": "stderr",
          "text": []
        },
        {
          "output_type": "stream",
          "name": "stdout",
          "text": [
            "Moviepy - Done !\n",
            "Moviepy - video ready 8_1result.mp4\n",
            "Video trimmed and saved: 8_1result.mp4\n",
            "00:00:00\n",
            "00:00:03\n",
            "0\n",
            "Moviepy - Building video 9_result.mp4.\n",
            "MoviePy - Writing audio in 9_resultTEMP_MPY_wvf_snd.mp3\n"
          ]
        },
        {
          "output_type": "stream",
          "name": "stderr",
          "text": []
        },
        {
          "output_type": "stream",
          "name": "stdout",
          "text": [
            "MoviePy - Done.\n",
            "Moviepy - Writing video 9_result.mp4\n",
            "\n"
          ]
        },
        {
          "output_type": "stream",
          "name": "stderr",
          "text": []
        },
        {
          "output_type": "stream",
          "name": "stdout",
          "text": [
            "Moviepy - Done !\n",
            "Moviepy - video ready 9_result.mp4\n",
            "Video trimmed and saved: 9_result.mp4\n",
            "00:00:00\n",
            "00:00:09\n",
            "0\n",
            "Moviepy - Building video 10_result.mp4.\n",
            "MoviePy - Writing audio in 10_resultTEMP_MPY_wvf_snd.mp3\n"
          ]
        },
        {
          "output_type": "stream",
          "name": "stderr",
          "text": []
        },
        {
          "output_type": "stream",
          "name": "stdout",
          "text": [
            "MoviePy - Done.\n",
            "Moviepy - Writing video 10_result.mp4\n",
            "\n"
          ]
        },
        {
          "output_type": "stream",
          "name": "stderr",
          "text": []
        },
        {
          "output_type": "stream",
          "name": "stdout",
          "text": [
            "Moviepy - Done !\n",
            "Moviepy - video ready 10_result.mp4\n",
            "Video trimmed and saved: 10_result.mp4\n",
            "00:00:01\n",
            "00:00:06\n",
            "0\n",
            "Moviepy - Building video 11_result.mp4.\n",
            "MoviePy - Writing audio in 11_resultTEMP_MPY_wvf_snd.mp3\n"
          ]
        },
        {
          "output_type": "stream",
          "name": "stderr",
          "text": []
        },
        {
          "output_type": "stream",
          "name": "stdout",
          "text": [
            "MoviePy - Done.\n",
            "Moviepy - Writing video 11_result.mp4\n",
            "\n"
          ]
        },
        {
          "output_type": "stream",
          "name": "stderr",
          "text": []
        },
        {
          "output_type": "stream",
          "name": "stdout",
          "text": [
            "Moviepy - Done !\n",
            "Moviepy - video ready 11_result.mp4\n",
            "Video trimmed and saved: 11_result.mp4\n",
            "00:00:00\n",
            "00:00:02\n",
            "0\n",
            "Moviepy - Building video 12_result.mp4.\n",
            "MoviePy - Writing audio in 12_resultTEMP_MPY_wvf_snd.mp3\n"
          ]
        },
        {
          "output_type": "stream",
          "name": "stderr",
          "text": []
        },
        {
          "output_type": "stream",
          "name": "stdout",
          "text": [
            "MoviePy - Done.\n",
            "Moviepy - Writing video 12_result.mp4\n",
            "\n"
          ]
        },
        {
          "output_type": "stream",
          "name": "stderr",
          "text": []
        },
        {
          "output_type": "stream",
          "name": "stdout",
          "text": [
            "Moviepy - Done !\n",
            "Moviepy - video ready 12_result.mp4\n",
            "Video trimmed and saved: 12_result.mp4\n",
            "00:00:00\n",
            "00:00:04\n",
            "0\n",
            "Moviepy - Building video 14_result.mp4.\n",
            "MoviePy - Writing audio in 14_resultTEMP_MPY_wvf_snd.mp3\n"
          ]
        },
        {
          "output_type": "stream",
          "name": "stderr",
          "text": []
        },
        {
          "output_type": "stream",
          "name": "stdout",
          "text": [
            "MoviePy - Done.\n",
            "Moviepy - Writing video 14_result.mp4\n",
            "\n"
          ]
        },
        {
          "output_type": "stream",
          "name": "stderr",
          "text": []
        },
        {
          "output_type": "stream",
          "name": "stdout",
          "text": [
            "Moviepy - Done !\n",
            "Moviepy - video ready 14_result.mp4\n",
            "Video trimmed and saved: 14_result.mp4\n",
            "00:00:00\n",
            "00:00:06\n",
            "0\n",
            "Moviepy - Building video 17_result.mp4.\n",
            "MoviePy - Writing audio in 17_resultTEMP_MPY_wvf_snd.mp3\n"
          ]
        },
        {
          "output_type": "stream",
          "name": "stderr",
          "text": []
        },
        {
          "output_type": "stream",
          "name": "stdout",
          "text": [
            "MoviePy - Done.\n",
            "Moviepy - Writing video 17_result.mp4\n",
            "\n"
          ]
        },
        {
          "output_type": "stream",
          "name": "stderr",
          "text": []
        },
        {
          "output_type": "stream",
          "name": "stdout",
          "text": [
            "Moviepy - Done !\n",
            "Moviepy - video ready 17_result.mp4\n",
            "Video trimmed and saved: 17_result.mp4\n",
            "00:00:00\n",
            "00:00:08\n",
            "0\n",
            "Moviepy - Building video 19_1_result.mp4.\n",
            "MoviePy - Writing audio in 19_1_resultTEMP_MPY_wvf_snd.mp3\n"
          ]
        },
        {
          "output_type": "stream",
          "name": "stderr",
          "text": []
        },
        {
          "output_type": "stream",
          "name": "stdout",
          "text": [
            "MoviePy - Done.\n",
            "Moviepy - Writing video 19_1_result.mp4\n",
            "\n"
          ]
        },
        {
          "output_type": "stream",
          "name": "stderr",
          "text": []
        },
        {
          "output_type": "stream",
          "name": "stdout",
          "text": [
            "Moviepy - Done !\n",
            "Moviepy - video ready 19_1_result.mp4\n",
            "Video trimmed and saved: 19_1_result.mp4\n",
            "00:00:00\n",
            "00:00:05\n",
            "0\n",
            "Moviepy - Building video 20_1_result.mp4.\n",
            "MoviePy - Writing audio in 20_1_resultTEMP_MPY_wvf_snd.mp3\n"
          ]
        },
        {
          "output_type": "stream",
          "name": "stderr",
          "text": []
        },
        {
          "output_type": "stream",
          "name": "stdout",
          "text": [
            "MoviePy - Done.\n",
            "Moviepy - Writing video 20_1_result.mp4\n",
            "\n"
          ]
        },
        {
          "output_type": "stream",
          "name": "stderr",
          "text": []
        },
        {
          "output_type": "stream",
          "name": "stdout",
          "text": [
            "Moviepy - Done !\n",
            "Moviepy - video ready 20_1_result.mp4\n",
            "Video trimmed and saved: 20_1_result.mp4\n",
            "00:00:05\n",
            "00:00:09\n",
            "0\n",
            "Moviepy - Building video 20_2_result.mp4.\n",
            "MoviePy - Writing audio in 20_2_resultTEMP_MPY_wvf_snd.mp3\n"
          ]
        },
        {
          "output_type": "stream",
          "name": "stderr",
          "text": []
        },
        {
          "output_type": "stream",
          "name": "stdout",
          "text": [
            "MoviePy - Done.\n",
            "Moviepy - Writing video 20_2_result.mp4\n",
            "\n"
          ]
        },
        {
          "output_type": "stream",
          "name": "stderr",
          "text": []
        },
        {
          "output_type": "stream",
          "name": "stdout",
          "text": [
            "Moviepy - Done !\n",
            "Moviepy - video ready 20_2_result.mp4\n",
            "Video trimmed and saved: 20_2_result.mp4\n"
          ]
        }
      ],
      "source": [
        "from moviepy.video.io.VideoFileClip import VideoFileClip\n",
        "from datetime import datetime, timedelta\n",
        "\n",
        "\n",
        "def parse_time(time_str):\n",
        "    time_format = \"%H:%M:%S\"\n",
        "    return datetime.strptime(time_str, time_format).time()\n",
        "\n",
        "def parse_timedelta(time_str):\n",
        "    time_format = \"%H:%M:%S\"\n",
        "    delta = datetime.strptime(time_str, time_format) - datetime.strptime(\"00:00:00\", time_format)\n",
        "    return timedelta(hours=delta.hour, minutes=delta.minute, seconds=delta.second)\n",
        "\n",
        "def trim_video(input_path, output_path, start_time, end_time):\n",
        "    video_clip = VideoFileClip(input_path).subclip(start_time, end_time)\n",
        "    video_clip.write_videofile(output_path, codec='libx264')\n",
        "\n",
        "if __name__ == \"__main__\":\n",
        "    with open(\"insta_input.txt\", \"r\") as file:\n",
        "        lines = file.readlines()\n",
        "\n",
        "    for line in lines:\n",
        "        parts = line.strip().split()\n",
        "        if len(parts) == 4:\n",
        "            input_video_path = parts[0]\n",
        "            output_video_path = parts[1]\n",
        "            start_time_str = parts[2]\n",
        "            end_time_str = parts[3]\n",
        "\n",
        "            start_time = parse_time(start_time_str)\n",
        "            end_time = parse_time(end_time_str)\n",
        "\n",
        "            print(start_time)\n",
        "            print(end_time)\n",
        "            print(start_time.hour)\n",
        "\n",
        "            input_video_path = input_video_path.strip()\n",
        "            output_video_path = output_video_path.strip()\n",
        "\n",
        "            trim_video(input_video_path, output_video_path, (start_time.hour,start_time.minute,start_time.second), (end_time.hour, end_time.minute, end_time.second))\n",
        "            print(f\"Video trimmed and saved: {output_video_path}\")\n"
      ]
    },
    {
      "cell_type": "code",
      "source": [
        "import os\n",
        "import shutil\n",
        "\n",
        "def copy_mp4_files(source_directory, destination_directory):\n",
        "    if not os.path.exists(source_directory):\n",
        "        print(f\"Source directory '{source_directory}' does not exist.\")\n",
        "        return\n",
        "\n",
        "    if not os.path.exists(destination_directory):\n",
        "        os.makedirs(destination_directory)\n",
        "\n",
        "    mp4_files = [filename for filename in os.listdir(source_directory) if filename.endswith(\"result.mp4\")]\n",
        "\n",
        "    for mp4_file in mp4_files:\n",
        "        source_path = os.path.join(source_directory, mp4_file)\n",
        "        destination_path = os.path.join(destination_directory, mp4_file)\n",
        "        shutil.copy(source_path, destination_path)\n",
        "        print(f\"Copied '{mp4_file}' to '{destination_directory}'\")\n",
        "\n",
        "if __name__ == \"__main__\":\n",
        "    source_directory = \"/content/drive/MyDrive/pcaliber/dogpoop\"  # Replace with the source directory path\n",
        "    destination_directory = \"/content/drive/MyDrive/pcaliber/result\"  # Replace with the destination directory path\n",
        "\n",
        "    copy_mp4_files(source_directory, destination_directory)\n"
      ],
      "metadata": {
        "colab": {
          "base_uri": "https://localhost:8080/"
        },
        "id": "dHRLRhlmKVrb",
        "outputId": "3f3abbf6-0cc8-4786-cce5-8c2f0fd74e7a"
      },
      "execution_count": null,
      "outputs": [
        {
          "output_type": "stream",
          "name": "stdout",
          "text": [
            "Copied '1_result.mp4' to '/content/drive/MyDrive/pcaliber/result'\n",
            "Copied '2_1result.mp4' to '/content/drive/MyDrive/pcaliber/result'\n",
            "Copied '2_2result.mp4' to '/content/drive/MyDrive/pcaliber/result'\n",
            "Copied '3_result.mp4' to '/content/drive/MyDrive/pcaliber/result'\n",
            "Copied '6_result.mp4' to '/content/drive/MyDrive/pcaliber/result'\n",
            "Copied '7_result.mp4' to '/content/drive/MyDrive/pcaliber/result'\n",
            "Copied '8_result.mp4' to '/content/drive/MyDrive/pcaliber/result'\n",
            "Copied '9_result.mp4' to '/content/drive/MyDrive/pcaliber/result'\n",
            "Copied '10_result.mp4' to '/content/drive/MyDrive/pcaliber/result'\n",
            "Copied '11_result.mp4' to '/content/drive/MyDrive/pcaliber/result'\n",
            "Copied '12_result.mp4' to '/content/drive/MyDrive/pcaliber/result'\n",
            "Copied '13_result.mp4' to '/content/drive/MyDrive/pcaliber/result'\n",
            "Copied '14_result.mp4' to '/content/drive/MyDrive/pcaliber/result'\n",
            "Copied '15_result.mp4' to '/content/drive/MyDrive/pcaliber/result'\n",
            "Copied '16_result.mp4' to '/content/drive/MyDrive/pcaliber/result'\n",
            "Copied '17_result.mp4' to '/content/drive/MyDrive/pcaliber/result'\n",
            "Copied '18_result.mp4' to '/content/drive/MyDrive/pcaliber/result'\n",
            "Copied '19_1_result.mp4' to '/content/drive/MyDrive/pcaliber/result'\n",
            "Copied '19_2_result.mp4' to '/content/drive/MyDrive/pcaliber/result'\n",
            "Copied '19_3_result.mp4' to '/content/drive/MyDrive/pcaliber/result'\n",
            "Copied '22_1_result.mp4' to '/content/drive/MyDrive/pcaliber/result'\n",
            "Copied '24_1_result.mp4' to '/content/drive/MyDrive/pcaliber/result'\n",
            "Copied '25_1_result.mp4' to '/content/drive/MyDrive/pcaliber/result'\n",
            "Copied '26_1_result.mp4' to '/content/drive/MyDrive/pcaliber/result'\n",
            "Copied '26_2_result.mp4' to '/content/drive/MyDrive/pcaliber/result'\n",
            "Copied '26_3_result.mp4' to '/content/drive/MyDrive/pcaliber/result'\n",
            "Copied '27_1_result.mp4' to '/content/drive/MyDrive/pcaliber/result'\n",
            "Copied '27_2_result.mp4' to '/content/drive/MyDrive/pcaliber/result'\n",
            "Copied '27_3_result.mp4' to '/content/drive/MyDrive/pcaliber/result'\n",
            "Copied '27_4_result.mp4' to '/content/drive/MyDrive/pcaliber/result'\n",
            "Copied '27_5_result.mp4' to '/content/drive/MyDrive/pcaliber/result'\n",
            "Copied '28_1_result.mp4' to '/content/drive/MyDrive/pcaliber/result'\n",
            "Copied '28_2_result.mp4' to '/content/drive/MyDrive/pcaliber/result'\n",
            "Copied '29_1_result.mp4' to '/content/drive/MyDrive/pcaliber/result'\n",
            "Copied '30_1_result.mp4' to '/content/drive/MyDrive/pcaliber/result'\n",
            "Copied '30_2_result.mp4' to '/content/drive/MyDrive/pcaliber/result'\n",
            "Copied '30_3_result.mp4' to '/content/drive/MyDrive/pcaliber/result'\n",
            "Copied '31_1_result.mp4' to '/content/drive/MyDrive/pcaliber/result'\n",
            "Copied '31_2_result.mp4' to '/content/drive/MyDrive/pcaliber/result'\n",
            "Copied '32_1_result.mp4' to '/content/drive/MyDrive/pcaliber/result'\n",
            "Copied '33_1_result.mp4' to '/content/drive/MyDrive/pcaliber/result'\n",
            "Copied '33_2_result.mp4' to '/content/drive/MyDrive/pcaliber/result'\n",
            "Copied '33_3_result.mp4' to '/content/drive/MyDrive/pcaliber/result'\n",
            "Copied '34_1_result.mp4' to '/content/drive/MyDrive/pcaliber/result'\n",
            "Copied '35_1_result.mp4' to '/content/drive/MyDrive/pcaliber/result'\n",
            "Copied '35_2_result.mp4' to '/content/drive/MyDrive/pcaliber/result'\n",
            "Copied '37_1_result.mp4' to '/content/drive/MyDrive/pcaliber/result'\n",
            "Copied '37_2_result.mp4' to '/content/drive/MyDrive/pcaliber/result'\n",
            "Copied '38_1_result.mp4' to '/content/drive/MyDrive/pcaliber/result'\n",
            "Copied '39_1_result.mp4' to '/content/drive/MyDrive/pcaliber/result'\n",
            "Copied '40_1_result.mp4' to '/content/drive/MyDrive/pcaliber/result'\n",
            "Copied '41_1_result.mp4' to '/content/drive/MyDrive/pcaliber/result'\n",
            "Copied '41_2_result.mp4' to '/content/drive/MyDrive/pcaliber/result'\n",
            "Copied '41_3_result.mp4' to '/content/drive/MyDrive/pcaliber/result'\n",
            "Copied '41_4_result.mp4' to '/content/drive/MyDrive/pcaliber/result'\n",
            "Copied '41_5_result.mp4' to '/content/drive/MyDrive/pcaliber/result'\n",
            "Copied '41_6_result.mp4' to '/content/drive/MyDrive/pcaliber/result'\n",
            "Copied '41_7_result.mp4' to '/content/drive/MyDrive/pcaliber/result'\n",
            "Copied '41_8_result.mp4' to '/content/drive/MyDrive/pcaliber/result'\n",
            "Copied '42_1_result.mp4' to '/content/drive/MyDrive/pcaliber/result'\n",
            "Copied '43_1_result.mp4' to '/content/drive/MyDrive/pcaliber/result'\n",
            "Copied '44_1_result.mp4' to '/content/drive/MyDrive/pcaliber/result'\n",
            "Copied '45_1_result.mp4' to '/content/drive/MyDrive/pcaliber/result'\n",
            "Copied '45_2_result.mp4' to '/content/drive/MyDrive/pcaliber/result'\n",
            "Copied '45_3_result.mp4' to '/content/drive/MyDrive/pcaliber/result'\n",
            "Copied '45_4_result.mp4' to '/content/drive/MyDrive/pcaliber/result'\n",
            "Copied '46_1_result.mp4' to '/content/drive/MyDrive/pcaliber/result'\n",
            "Copied '46_2_result.mp4' to '/content/drive/MyDrive/pcaliber/result'\n",
            "Copied '46_3_result.mp4' to '/content/drive/MyDrive/pcaliber/result'\n",
            "Copied '47_1_result.mp4' to '/content/drive/MyDrive/pcaliber/result'\n",
            "Copied '47_2_result.mp4' to '/content/drive/MyDrive/pcaliber/result'\n",
            "Copied '47_3_result.mp4' to '/content/drive/MyDrive/pcaliber/result'\n",
            "Copied '48_1_result.mp4' to '/content/drive/MyDrive/pcaliber/result'\n",
            "Copied '49_1_result.mp4' to '/content/drive/MyDrive/pcaliber/result'\n"
          ]
        }
      ]
    },
    {
      "cell_type": "code",
      "source": [
        "!pip install instaloader"
      ],
      "metadata": {
        "colab": {
          "base_uri": "https://localhost:8080/"
        },
        "id": "PwvXoVbYXveW",
        "outputId": "1cecf4ba-7f2b-421c-b44e-6bcd17ad9a20"
      },
      "execution_count": null,
      "outputs": [
        {
          "output_type": "stream",
          "name": "stdout",
          "text": [
            "Collecting instaloader\n",
            "  Downloading instaloader-4.10.tar.gz (62 kB)\n",
            "\u001b[2K     \u001b[90m━━━━━━━━━━━━━━━━━━━━━━━━━━━━━━━━━━━━━━━━\u001b[0m \u001b[32m62.5/62.5 kB\u001b[0m \u001b[31m2.0 MB/s\u001b[0m eta \u001b[36m0:00:00\u001b[0m\n",
            "\u001b[?25h  Preparing metadata (setup.py) ... \u001b[?25l\u001b[?25hdone\n",
            "Requirement already satisfied: requests>=2.4 in /usr/local/lib/python3.10/dist-packages (from instaloader) (2.31.0)\n",
            "Requirement already satisfied: charset-normalizer<4,>=2 in /usr/local/lib/python3.10/dist-packages (from requests>=2.4->instaloader) (3.2.0)\n",
            "Requirement already satisfied: idna<4,>=2.5 in /usr/local/lib/python3.10/dist-packages (from requests>=2.4->instaloader) (3.4)\n",
            "Requirement already satisfied: urllib3<3,>=1.21.1 in /usr/local/lib/python3.10/dist-packages (from requests>=2.4->instaloader) (2.0.4)\n",
            "Requirement already satisfied: certifi>=2017.4.17 in /usr/local/lib/python3.10/dist-packages (from requests>=2.4->instaloader) (2023.7.22)\n",
            "Building wheels for collected packages: instaloader\n",
            "  Building wheel for instaloader (setup.py) ... \u001b[?25l\u001b[?25hdone\n",
            "  Created wheel for instaloader: filename=instaloader-4.10-py3-none-any.whl size=64278 sha256=45e71181ab0646da465b09fc6e0b9aeadb1a83563a8a8e9b1d6c95961afe167e\n",
            "  Stored in directory: /root/.cache/pip/wheels/5b/8d/e0/866c1ad8efef4ab789acf51c4b317711d63f62af0228a6a676\n",
            "Successfully built instaloader\n",
            "Installing collected packages: instaloader\n",
            "Successfully installed instaloader-4.10\n"
          ]
        }
      ]
    },
    {
      "cell_type": "code",
      "source": [
        "import os\n",
        "import shutil\n",
        "\n",
        "def copy_mp4_files(source_directory, destination_directory):\n",
        "    if not os.path.exists(source_directory):\n",
        "        print(f\"Source directory '{source_directory}' does not exist.\")\n",
        "        return\n",
        "\n",
        "    if not os.path.exists(destination_directory):\n",
        "        os.makedirs(destination_directory)\n",
        "\n",
        "    mp4_files = [filename for filename in os.listdir(source_directory) if filename.endswith(\"result.mp4\")]\n",
        "\n",
        "    for mp4_file in mp4_files:\n",
        "        source_path = os.path.join(source_directory, mp4_file)\n",
        "        destination_path = os.path.join(destination_directory, mp4_file)\n",
        "        shutil.copy(source_path, destination_path)\n",
        "        print(f\"Copied '{mp4_file}' to '{destination_directory}'\")\n",
        "\n",
        "if __name__ == \"__main__\":\n",
        "    source_directory = \"/content/drive/MyDrive/pcaliber/only_video_instagram\"  # Replace with the source directory path\n",
        "    destination_directory = \"/content/drive/MyDrive/pcaliber/result\"  # Replace with the destination directory path\n",
        "\n",
        "    copy_mp4_files(source_directory, destination_directory)"
      ],
      "metadata": {
        "colab": {
          "base_uri": "https://localhost:8080/"
        },
        "id": "TdSFhnAUZaUb",
        "outputId": "373fa10c-0249-4d1d-b35f-3f0396dd3a18"
      },
      "execution_count": null,
      "outputs": [
        {
          "output_type": "stream",
          "name": "stdout",
          "text": [
            "Copied '1_1result.mp4' to '/content/drive/MyDrive/pcaliber/result'\n",
            "Copied '1_2result.mp4' to '/content/drive/MyDrive/pcaliber/result'\n",
            "Copied '1_3result.mp4' to '/content/drive/MyDrive/pcaliber/result'\n",
            "Copied '2_1result.mp4' to '/content/drive/MyDrive/pcaliber/result'\n",
            "Copied '3_1result.mp4' to '/content/drive/MyDrive/pcaliber/result'\n",
            "Copied '5_1result.mp4' to '/content/drive/MyDrive/pcaliber/result'\n",
            "Copied '7_1result.mp4' to '/content/drive/MyDrive/pcaliber/result'\n",
            "Copied '8_1result.mp4' to '/content/drive/MyDrive/pcaliber/result'\n",
            "Copied '9_result.mp4' to '/content/drive/MyDrive/pcaliber/result'\n",
            "Copied '10_result.mp4' to '/content/drive/MyDrive/pcaliber/result'\n",
            "Copied '11_result.mp4' to '/content/drive/MyDrive/pcaliber/result'\n",
            "Copied '12_result.mp4' to '/content/drive/MyDrive/pcaliber/result'\n",
            "Copied '14_result.mp4' to '/content/drive/MyDrive/pcaliber/result'\n",
            "Copied '17_result.mp4' to '/content/drive/MyDrive/pcaliber/result'\n",
            "Copied '19_1_result.mp4' to '/content/drive/MyDrive/pcaliber/result'\n",
            "Copied '20_1_result.mp4' to '/content/drive/MyDrive/pcaliber/result'\n",
            "Copied '20_2_result.mp4' to '/content/drive/MyDrive/pcaliber/result'\n"
          ]
        }
      ]
    },
    {
      "cell_type": "code",
      "source": [],
      "metadata": {
        "id": "9dmdXJqPt9dH"
      },
      "execution_count": null,
      "outputs": []
    }
  ],
  "metadata": {
    "accelerator": "GPU",
    "colab": {
      "provenance": [],
      "gpuType": "T4"
    },
    "kernelspec": {
      "display_name": "Python 3",
      "name": "python3"
    },
    "language_info": {
      "name": "python"
    }
  },
  "nbformat": 4,
  "nbformat_minor": 0
}